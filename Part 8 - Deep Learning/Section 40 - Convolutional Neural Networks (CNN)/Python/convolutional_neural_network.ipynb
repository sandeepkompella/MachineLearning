{
 "cells": [
  {
   "cell_type": "markdown",
   "metadata": {
    "colab_type": "text",
    "id": "3DR-eO17geWu"
   },
   "source": [
    "# Convolutional Neural Network"
   ]
  },
  {
   "cell_type": "markdown",
   "metadata": {
    "colab_type": "text",
    "id": "EMefrVPCg-60"
   },
   "source": [
    "### Importing the libraries"
   ]
  },
  {
   "cell_type": "code",
   "execution_count": 1,
   "metadata": {},
   "outputs": [],
   "source": [
    "import tensorflow as tf\n",
    "import pandas as pd\n",
    "import numpy as np\n",
    "from keras.preprocessing.image import ImageDataGenerator"
   ]
  },
  {
   "cell_type": "code",
   "execution_count": 2,
   "metadata": {},
   "outputs": [
    {
     "data": {
      "text/plain": [
       "'2.2.0'"
      ]
     },
     "execution_count": 2,
     "metadata": {},
     "output_type": "execute_result"
    }
   ],
   "source": [
    "tf.__version__"
   ]
  },
  {
   "cell_type": "markdown",
   "metadata": {
    "colab_type": "text",
    "id": "oxQxCBWyoGPE"
   },
   "source": [
    "## Part 1 - Data Preprocessing"
   ]
  },
  {
   "cell_type": "markdown",
   "metadata": {
    "colab_type": "text",
    "id": "MvE-heJNo3GG"
   },
   "source": [
    "### Preprocessing the Training set"
   ]
  },
  {
   "cell_type": "code",
   "execution_count": 3,
   "metadata": {},
   "outputs": [
    {
     "name": "stdout",
     "output_type": "stream",
     "text": [
      "Found 8000 images belonging to 2 classes.\n"
     ]
    }
   ],
   "source": [
    "train_datagen = ImageDataGenerator(\n",
    "        rescale=1./255,\n",
    "        shear_range=0.2,\n",
    "        zoom_range=0.2,\n",
    "        horizontal_flip=True)\n",
    "training_set = train_datagen.flow_from_directory(\n",
    "        'dataset/training_set',\n",
    "        target_size=(64, 64),\n",
    "        batch_size=32,\n",
    "        class_mode='binary')"
   ]
  },
  {
   "cell_type": "markdown",
   "metadata": {
    "colab_type": "text",
    "id": "mrCMmGw9pHys"
   },
   "source": [
    "### Preprocessing the Test set"
   ]
  },
  {
   "cell_type": "code",
   "execution_count": 4,
   "metadata": {},
   "outputs": [
    {
     "name": "stdout",
     "output_type": "stream",
     "text": [
      "Found 2000 images belonging to 2 classes.\n"
     ]
    }
   ],
   "source": [
    "test_datagen = ImageDataGenerator(rescale=1./255)\n",
    "test_set = test_datagen.flow_from_directory(\n",
    "        'dataset/test_set',\n",
    "        target_size=(64, 64),\n",
    "        batch_size=32,\n",
    "        class_mode='binary')"
   ]
  },
  {
   "cell_type": "markdown",
   "metadata": {
    "colab_type": "text",
    "id": "af8O4l90gk7B"
   },
   "source": [
    "## Part 2 - Building the CNN"
   ]
  },
  {
   "cell_type": "markdown",
   "metadata": {
    "colab_type": "text",
    "id": "ces1gXY2lmoX"
   },
   "source": [
    "### Initialising the CNN"
   ]
  },
  {
   "cell_type": "code",
   "execution_count": 5,
   "metadata": {},
   "outputs": [],
   "source": [
    "cnn = tf.keras.models.Sequential()"
   ]
  },
  {
   "cell_type": "markdown",
   "metadata": {
    "colab_type": "text",
    "id": "u5YJj_XMl5LF"
   },
   "source": [
    "### Step 1 - Convolution"
   ]
  },
  {
   "cell_type": "code",
   "execution_count": 6,
   "metadata": {},
   "outputs": [],
   "source": [
    "cnn.add(tf.keras.layers.Conv2D(filters=32,kernel_size=3,activation='relu', input_shape=[64,64,3]))"
   ]
  },
  {
   "cell_type": "markdown",
   "metadata": {
    "colab_type": "text",
    "id": "tf87FpvxmNOJ"
   },
   "source": [
    "### Step 2 - Pooling"
   ]
  },
  {
   "cell_type": "code",
   "execution_count": 7,
   "metadata": {},
   "outputs": [],
   "source": [
    "cnn.add(tf.keras.layers.MaxPool2D(pool_size=2,strides=2))"
   ]
  },
  {
   "cell_type": "markdown",
   "metadata": {
    "colab_type": "text",
    "id": "xaTOgD8rm4mU"
   },
   "source": [
    "### Adding a second convolutional layer"
   ]
  },
  {
   "cell_type": "code",
   "execution_count": 8,
   "metadata": {},
   "outputs": [],
   "source": [
    "cnn.add(tf.keras.layers.Conv2D(filters=32,kernel_size=3,activation='relu'))\n",
    "cnn.add(tf.keras.layers.MaxPool2D(pool_size=2,strides=2))"
   ]
  },
  {
   "cell_type": "markdown",
   "metadata": {
    "colab_type": "text",
    "id": "tmiEuvTunKfk"
   },
   "source": [
    "### Step 3 - Flattening"
   ]
  },
  {
   "cell_type": "code",
   "execution_count": 9,
   "metadata": {},
   "outputs": [],
   "source": [
    "cnn.add(tf.keras.layers.Flatten())"
   ]
  },
  {
   "cell_type": "markdown",
   "metadata": {
    "colab_type": "text",
    "id": "dAoSECOm203v"
   },
   "source": [
    "### Step 4 - Full Connection"
   ]
  },
  {
   "cell_type": "code",
   "execution_count": 10,
   "metadata": {},
   "outputs": [],
   "source": [
    "cnn.add(tf.keras.layers.Dense(units=128,activation='relu'))"
   ]
  },
  {
   "cell_type": "markdown",
   "metadata": {
    "colab_type": "text",
    "id": "yTldFvbX28Na"
   },
   "source": [
    "### Step 5 - Output Layer"
   ]
  },
  {
   "cell_type": "code",
   "execution_count": 11,
   "metadata": {},
   "outputs": [],
   "source": [
    "cnn.add(tf.keras.layers.Dense(units=1,activation='sigmoid'))"
   ]
  },
  {
   "cell_type": "markdown",
   "metadata": {
    "colab_type": "text",
    "id": "D6XkI90snSDl"
   },
   "source": [
    "## Part 3 - Training the CNN"
   ]
  },
  {
   "cell_type": "markdown",
   "metadata": {
    "colab_type": "text",
    "id": "vfrFQACEnc6i"
   },
   "source": [
    "### Compiling the CNN"
   ]
  },
  {
   "cell_type": "code",
   "execution_count": 12,
   "metadata": {},
   "outputs": [],
   "source": [
    "cnn.compile(optimizer='adam',loss='binary_crossentropy',metrics=['accuracy'])"
   ]
  },
  {
   "cell_type": "markdown",
   "metadata": {
    "colab_type": "text",
    "id": "ehS-v3MIpX2h"
   },
   "source": [
    "### Training the CNN on the Training set and evaluating it on the Test set"
   ]
  },
  {
   "cell_type": "code",
   "execution_count": 13,
   "metadata": {},
   "outputs": [
    {
     "name": "stdout",
     "output_type": "stream",
     "text": [
      "Epoch 1/25\n",
      "250/250 [==============================] - 86s 346ms/step - loss: 0.6864 - accuracy: 0.5576 - val_loss: 0.6646 - val_accuracy: 0.6015\n",
      "Epoch 2/25\n",
      "250/250 [==============================] - 88s 351ms/step - loss: 0.6377 - accuracy: 0.6370 - val_loss: 0.6158 - val_accuracy: 0.6650\n",
      "Epoch 3/25\n",
      "250/250 [==============================] - 106s 422ms/step - loss: 0.5882 - accuracy: 0.6873 - val_loss: 0.5689 - val_accuracy: 0.7115\n",
      "Epoch 4/25\n",
      "250/250 [==============================] - 91s 364ms/step - loss: 0.5460 - accuracy: 0.7214 - val_loss: 0.5310 - val_accuracy: 0.7440\n",
      "Epoch 5/25\n",
      "250/250 [==============================] - 89s 356ms/step - loss: 0.5181 - accuracy: 0.7500 - val_loss: 0.5392 - val_accuracy: 0.7355\n",
      "Epoch 6/25\n",
      "250/250 [==============================] - 105s 421ms/step - loss: 0.4979 - accuracy: 0.7560 - val_loss: 0.5178 - val_accuracy: 0.7520\n",
      "Epoch 7/25\n",
      "250/250 [==============================] - 86s 342ms/step - loss: 0.4740 - accuracy: 0.7701 - val_loss: 0.4856 - val_accuracy: 0.7685\n",
      "Epoch 8/25\n",
      "250/250 [==============================] - 79s 316ms/step - loss: 0.4576 - accuracy: 0.7846 - val_loss: 0.4849 - val_accuracy: 0.7660\n",
      "Epoch 9/25\n",
      "250/250 [==============================] - 110s 440ms/step - loss: 0.4348 - accuracy: 0.7924 - val_loss: 0.5141 - val_accuracy: 0.7660\n",
      "Epoch 10/25\n",
      "250/250 [==============================] - 83s 331ms/step - loss: 0.4304 - accuracy: 0.8044 - val_loss: 0.4732 - val_accuracy: 0.7835\n",
      "Epoch 11/25\n",
      "250/250 [==============================] - 80s 319ms/step - loss: 0.4169 - accuracy: 0.8065 - val_loss: 0.4606 - val_accuracy: 0.7995\n",
      "Epoch 12/25\n",
      "250/250 [==============================] - 85s 342ms/step - loss: 0.3970 - accuracy: 0.8186 - val_loss: 0.4616 - val_accuracy: 0.7925\n",
      "Epoch 13/25\n",
      "250/250 [==============================] - 77s 307ms/step - loss: 0.3883 - accuracy: 0.8225 - val_loss: 0.4901 - val_accuracy: 0.7755\n",
      "Epoch 14/25\n",
      "250/250 [==============================] - 80s 320ms/step - loss: 0.3711 - accuracy: 0.8360 - val_loss: 0.4635 - val_accuracy: 0.7885\n",
      "Epoch 15/25\n",
      "250/250 [==============================] - 76s 305ms/step - loss: 0.3495 - accuracy: 0.8393 - val_loss: 0.5080 - val_accuracy: 0.7860\n",
      "Epoch 16/25\n",
      "250/250 [==============================] - 82s 327ms/step - loss: 0.3366 - accuracy: 0.8500 - val_loss: 0.4731 - val_accuracy: 0.8025\n",
      "Epoch 17/25\n",
      "250/250 [==============================] - 76s 305ms/step - loss: 0.3242 - accuracy: 0.8608 - val_loss: 0.5155 - val_accuracy: 0.7835\n",
      "Epoch 18/25\n",
      "250/250 [==============================] - 76s 305ms/step - loss: 0.3084 - accuracy: 0.8645 - val_loss: 0.4919 - val_accuracy: 0.8040\n",
      "Epoch 19/25\n",
      "250/250 [==============================] - 66s 266ms/step - loss: 0.2968 - accuracy: 0.8711 - val_loss: 0.5065 - val_accuracy: 0.8005\n",
      "Epoch 20/25\n",
      "250/250 [==============================] - 59s 236ms/step - loss: 0.2719 - accuracy: 0.8840 - val_loss: 0.6470 - val_accuracy: 0.7665\n",
      "Epoch 21/25\n",
      "250/250 [==============================] - 60s 241ms/step - loss: 0.2622 - accuracy: 0.8885 - val_loss: 0.5242 - val_accuracy: 0.8105\n",
      "Epoch 22/25\n",
      "250/250 [==============================] - 80s 320ms/step - loss: 0.2559 - accuracy: 0.8892 - val_loss: 0.6090 - val_accuracy: 0.7830\n",
      "Epoch 23/25\n",
      "250/250 [==============================] - 78s 312ms/step - loss: 0.2357 - accuracy: 0.9038 - val_loss: 0.5966 - val_accuracy: 0.7840\n",
      "Epoch 24/25\n",
      "250/250 [==============================] - 78s 313ms/step - loss: 0.2217 - accuracy: 0.9066 - val_loss: 0.6918 - val_accuracy: 0.7630\n",
      "Epoch 25/25\n",
      "250/250 [==============================] - 76s 306ms/step - loss: 0.2162 - accuracy: 0.9126 - val_loss: 0.5385 - val_accuracy: 0.8060\n"
     ]
    },
    {
     "data": {
      "text/plain": [
       "<tensorflow.python.keras.callbacks.History at 0x7f8fea5278e0>"
      ]
     },
     "execution_count": 13,
     "metadata": {},
     "output_type": "execute_result"
    }
   ],
   "source": [
    "cnn.fit(x=training_set, validation_data=test_set, epochs=25)"
   ]
  },
  {
   "cell_type": "markdown",
   "metadata": {
    "colab_type": "text",
    "id": "U3PZasO0006Z"
   },
   "source": [
    "## Part 4 - Making a single prediction"
   ]
  },
  {
   "cell_type": "code",
   "execution_count": 15,
   "metadata": {},
   "outputs": [
    {
     "name": "stdout",
     "output_type": "stream",
     "text": [
      "dog\n"
     ]
    }
   ],
   "source": [
    "from keras.preprocessing import image\n",
    "test_image = image.load_img('dataset/single_prediction/cat_or_dog_1.jpg', \n",
    "                           target_size = (64,64))\n",
    "test_image = image.img_to_array(test_image)\n",
    "test_image = np.expand_dims(test_image, axis=0)\n",
    "result = cnn.predict(test_image)\n",
    "training_set.class_indices\n",
    "if result[0][0] == 1:\n",
    "    prediction = 'dog'\n",
    "else:\n",
    "    prediction = 'cat'\n",
    "print(prediction)"
   ]
  },
  {
   "cell_type": "code",
   "execution_count": null,
   "metadata": {},
   "outputs": [],
   "source": []
  }
 ],
 "metadata": {
  "colab": {
   "collapsed_sections": [],
   "name": "convolutional_neural_network.ipynb",
   "provenance": [],
   "toc_visible": true
  },
  "kernelspec": {
   "display_name": "Python 3",
   "language": "python",
   "name": "python3"
  },
  "language_info": {
   "codemirror_mode": {
    "name": "ipython",
    "version": 3
   },
   "file_extension": ".py",
   "mimetype": "text/x-python",
   "name": "python",
   "nbconvert_exporter": "python",
   "pygments_lexer": "ipython3",
   "version": "3.8.1"
  }
 },
 "nbformat": 4,
 "nbformat_minor": 1
}
